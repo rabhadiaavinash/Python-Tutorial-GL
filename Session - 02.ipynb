{
 "cells": [
  {
   "cell_type": "markdown",
   "metadata": {
    "collapsed": true
   },
   "source": [
    "## Table of Content\n",
    "\n",
    "1. **[Introduction to List](#list)**\n",
    "2. **[Introduction to Tuple](#tuple)**\n",
    "3. **[Introduction to Dictionary](#dictionary)**\n",
    "4. **[Introduction to Sets](#sets)**\n",
    "5. **[Conditional Statement and Loops](#loops)**\n",
    "    - 5.1 - [if statement](#if_statement)\n",
    "    - 5.2 - [if else statement](#if_else)\n",
    "    - 5.3 - [if elif else](#if_elif_else)\n",
    "    - 5.4 - [nested if and if else statement](#nested_if)\n",
    "    - 5.5 - [for loop](#forloop)\n",
    "    - 5.6 - [while loop](#whileloop)\n",
    "    - 5.7 - [break statement](#break_statement)\n",
    "    - 5.8 - [continue statement](#continue_statement)"
   ]
  },
  {
   "cell_type": "markdown",
   "metadata": {},
   "source": [
    "<a id=\"list\"> </a>\n",
    "## 1. Introduction to List\n"
   ]
  },
  {
   "cell_type": "markdown",
   "metadata": {},
   "source": [
    "### Constructing Lists\n",
    "\n",
    "To create a list, use square brackets [ ] and separate items in the list with commas.\n",
    "A list can be empty or contain any number of items with different data types (integers, float, strings, etc.)"
   ]
  },
  {
   "cell_type": "code",
   "execution_count": 1,
   "metadata": {},
   "outputs": [
    {
     "data": {
      "text/plain": [
       "[]"
      ]
     },
     "execution_count": 1,
     "metadata": {},
     "output_type": "execute_result"
    }
   ],
   "source": [
    "# create a empty list\n",
    "empty_list = []\n",
    "empty_list"
   ]
  },
  {
   "cell_type": "markdown",
   "metadata": {},
   "source": [
    "**Note : A list can also hold another list as an item, these are called nested lists**"
   ]
  },
  {
   "cell_type": "code",
   "execution_count": 4,
   "metadata": {},
   "outputs": [
    {
     "data": {
      "text/plain": [
       "[['Data Science', 'Machine Learning'], [135, 232, 321]]"
      ]
     },
     "execution_count": 4,
     "metadata": {},
     "output_type": "execute_result"
    }
   ],
   "source": [
    "# nested list\n",
    "my_list = [['Data Science','Machine Learning'],[135,232,321]]\n",
    "my_list"
   ]
  },
  {
   "cell_type": "markdown",
   "metadata": {},
   "source": [
    "### Acessing Elements in a List\n",
    "You can access the list items by referring to the index number"
   ]
  },
  {
   "cell_type": "markdown",
   "metadata": {},
   "source": [
    "**Indexing:**<br>\n",
    "We use the index operator [ ]. Each item in a list has an assigned index value. Note that the index starts from 0 in python and must be an integer"
   ]
  },
  {
   "cell_type": "markdown",
   "metadata": {},
   "source": [
    "Print the second item of the list"
   ]
  },
  {
   "cell_type": "code",
   "execution_count": 5,
   "metadata": {},
   "outputs": [
    {
     "name": "stdout",
     "output_type": "stream",
     "text": [
      "machine learning\n"
     ]
    }
   ],
   "source": [
    "# define a list\n",
    "course = ['data science', 'machine learning', 'python', 'html', 'big data' ]\n",
    "\n",
    "# access the second item of a list at index 1\n",
    "print(course[1])"
   ]
  },
  {
   "cell_type": "markdown",
   "metadata": {},
   "source": [
    "**Negative Indexing**:<br>\n",
    "Negative indexing means beginning from the end, -1 refers to the last item, -2 refers to the second last item"
   ]
  },
  {
   "cell_type": "markdown",
   "metadata": {},
   "source": [
    "Print the second last item of the list"
   ]
  },
  {
   "cell_type": "code",
   "execution_count": 6,
   "metadata": {},
   "outputs": [
    {
     "name": "stdout",
     "output_type": "stream",
     "text": [
      "html\n"
     ]
    }
   ],
   "source": [
    "# define a list\n",
    "course = ['data science', 'machine learning', 'python', 'html', 'big data' ]\n",
    "\n",
    "# access the second item of a list at index -2\n",
    "print(course[-2])"
   ]
  },
  {
   "cell_type": "markdown",
   "metadata": {},
   "source": [
    "### Slicing of a List\n",
    "List uses the slicing operator : (colon) to extract part of the sequence"
   ]
  },
  {
   "cell_type": "markdown",
   "metadata": {},
   "source": [
    "Return first three elements from the list"
   ]
  },
  {
   "cell_type": "code",
   "execution_count": 8,
   "metadata": {},
   "outputs": [
    {
     "data": {
      "text/plain": [
       "['data science', 'machine learning', 'python']"
      ]
     },
     "execution_count": 8,
     "metadata": {},
     "output_type": "execute_result"
    }
   ],
   "source": [
    "# define a list\n",
    "course = ['data science', 'machine learning', 'python', 'html', 'big data' ]\n",
    "\n",
    "# print first three element from the list\n",
    "course[:3]"
   ]
  },
  {
   "cell_type": "markdown",
   "metadata": {},
   "source": [
    "Select elements from beginning to end"
   ]
  },
  {
   "cell_type": "code",
   "execution_count": 10,
   "metadata": {},
   "outputs": [
    {
     "data": {
      "text/plain": [
       "['data science', 'machine learning', 'python', 'html', 'big data']"
      ]
     },
     "execution_count": 10,
     "metadata": {},
     "output_type": "execute_result"
    }
   ],
   "source": [
    "# define a list\n",
    "course = ['data science', 'machine learning', 'python', 'html', 'big data' ]\n",
    "\n",
    "# print the all elements\n",
    "course[:]"
   ]
  },
  {
   "cell_type": "markdown",
   "metadata": {},
   "source": [
    "If all three start , stop, and step are provided, it generates portion of sequence after index start till stop with increment of index step"
   ]
  },
  {
   "cell_type": "code",
   "execution_count": 21,
   "metadata": {},
   "outputs": [
    {
     "name": "stdout",
     "output_type": "stream",
     "text": [
      "[3, 5, 7]\n"
     ]
    }
   ],
   "source": [
    "a = [1,2,3,4,5,6,7,8,9,10]\n",
    "print(a[2:7:2])"
   ]
  },
  {
   "cell_type": "markdown",
   "metadata": {},
   "source": [
    "### Change Item Value\n",
    "Refer the index number to change the value of a specific item"
   ]
  },
  {
   "cell_type": "code",
   "execution_count": 12,
   "metadata": {},
   "outputs": [
    {
     "data": {
      "text/plain": [
       "['data science', 'machine learning', 'python', 'statistics', 'big data']"
      ]
     },
     "execution_count": 12,
     "metadata": {},
     "output_type": "execute_result"
    }
   ],
   "source": [
    "# define a list\n",
    "course = ['data science', 'machine learning', 'python', 'html', 'big data' ]\n",
    "\n",
    "# change the third item\n",
    "course[3] = 'statistics'\n",
    "\n",
    "course"
   ]
  },
  {
   "cell_type": "markdown",
   "metadata": {},
   "source": [
    "### List Methods\n",
    "Python has a set of built-in methods that you can use on lists and arrays"
   ]
  },
  {
   "cell_type": "markdown",
   "metadata": {},
   "source": [
    "Python has built-in methods that you can use on list:<br>\n",
    "append()<br>\n",
    "insert()<br>\n",
    "extend()<br>\n",
    "del <br>\n",
    "remove()<br>\n",
    "pop()<br>\n",
    "reverse()<br>"
   ]
  },
  {
   "cell_type": "markdown",
   "metadata": {},
   "source": [
    "**list.append(item)**<br>\n",
    "The method list.append(item) will add the element at the end of a list"
   ]
  },
  {
   "cell_type": "code",
   "execution_count": 13,
   "metadata": {},
   "outputs": [
    {
     "data": {
      "text/plain": [
       "['data science',\n",
       " 'machine learning',\n",
       " 'python',\n",
       " 'html',\n",
       " 'big data',\n",
       " ['statistics']]"
      ]
     },
     "execution_count": 13,
     "metadata": {},
     "output_type": "execute_result"
    }
   ],
   "source": [
    "# define a list\n",
    "course1 = ['data science', 'machine learning', 'python', 'html', 'big data' ]\n",
    "\n",
    "course2 = ['statistics']\n",
    "\n",
    "# add element to the list\n",
    "course1.append(course2)\n",
    "course1"
   ]
  },
  {
   "cell_type": "markdown",
   "metadata": {},
   "source": [
    "**list.insert(i, item)**<br>\n",
    "This method will insert an element at the ith index in a list"
   ]
  },
  {
   "cell_type": "code",
   "execution_count": 14,
   "metadata": {},
   "outputs": [
    {
     "data": {
      "text/plain": [
       "['data science',\n",
       " 'machine learning',\n",
       " 'statistics',\n",
       " 'python',\n",
       " 'html',\n",
       " 'big data']"
      ]
     },
     "execution_count": 14,
     "metadata": {},
     "output_type": "execute_result"
    }
   ],
   "source": [
    "# define a list\n",
    "course = ['data science', 'machine learning', 'python', 'html', 'big data' ]\n",
    "\n",
    "# insert element at 2nd index in a list\n",
    "course.insert(2, 'statistics')\n",
    "course"
   ]
  },
  {
   "cell_type": "markdown",
   "metadata": {},
   "source": [
    "**list.extend(items)**<br>\n",
    "The extend method concatenates lists"
   ]
  },
  {
   "cell_type": "code",
   "execution_count": 15,
   "metadata": {},
   "outputs": [
    {
     "data": {
      "text/plain": [
       "['data science',\n",
       " 'machine learning',\n",
       " 'python',\n",
       " 'html',\n",
       " 'big data',\n",
       " 'artificial intelligence']"
      ]
     },
     "execution_count": 15,
     "metadata": {},
     "output_type": "execute_result"
    }
   ],
   "source": [
    "# define a first list\n",
    "course1 = ['data science', 'machine learning', 'python', 'html', 'big data']\n",
    "\n",
    "# define a second list\n",
    "course2 = ['artificial intelligence']\n",
    "\n",
    "# concatenate the list\n",
    "course1.extend(course2)\n",
    "\n",
    "course1"
   ]
  },
  {
   "cell_type": "markdown",
   "metadata": {},
   "source": [
    "**Deleting List Elements**<br>\n",
    "Use the del keywords to delete an item at specific index"
   ]
  },
  {
   "cell_type": "code",
   "execution_count": 16,
   "metadata": {},
   "outputs": [
    {
     "data": {
      "text/plain": [
       "['data science', 'machine learning', 'html', 'big data']"
      ]
     },
     "execution_count": 16,
     "metadata": {},
     "output_type": "execute_result"
    }
   ],
   "source": [
    "# define a first list\n",
    "course = ['data science', 'machine learning', 'python', 'html', 'big data' ]\n",
    "\n",
    "# delete the third element from the list\n",
    "del course[2]\n",
    "\n",
    "# print the output\n",
    "course"
   ]
  },
  {
   "cell_type": "markdown",
   "metadata": {},
   "source": [
    "**list.remove(item)**<br>\n",
    "It will search and remove only the first occurrence of an item"
   ]
  },
  {
   "cell_type": "code",
   "execution_count": 18,
   "metadata": {},
   "outputs": [
    {
     "data": {
      "text/plain": [
       "['data science', 'machine learning', 'python', 'big data', 'html']"
      ]
     },
     "execution_count": 18,
     "metadata": {},
     "output_type": "execute_result"
    }
   ],
   "source": [
    "# define a first list\n",
    "course = ['data science', 'machine learning', 'python', 'html', 'big data', 'html' ]\n",
    "\n",
    "course.remove('html')\n",
    "\n",
    "course"
   ]
  },
  {
   "cell_type": "markdown",
   "metadata": {},
   "source": [
    "**list.pop()**<br>\n",
    "Removes and returns the last item of a list"
   ]
  },
  {
   "cell_type": "code",
   "execution_count": 19,
   "metadata": {},
   "outputs": [
    {
     "data": {
      "text/plain": [
       "'html'"
      ]
     },
     "execution_count": 19,
     "metadata": {},
     "output_type": "execute_result"
    }
   ],
   "source": [
    "# define a first list\n",
    "course = ['data science', 'machine learning', 'python', 'html', 'big data', 'html' ]\n",
    "\n",
    "course.pop()"
   ]
  },
  {
   "cell_type": "markdown",
   "metadata": {},
   "source": [
    "**list.reverse()**<br>\n",
    "The reverse() method reverses the sorting order of the elements"
   ]
  },
  {
   "cell_type": "code",
   "execution_count": 20,
   "metadata": {},
   "outputs": [
    {
     "data": {
      "text/plain": [
       "['html', 'big data', 'html', 'python', 'machine learning', 'data science']"
      ]
     },
     "execution_count": 20,
     "metadata": {},
     "output_type": "execute_result"
    }
   ],
   "source": [
    "# define a first list\n",
    "course = ['data science', 'machine learning', 'python', 'html', 'big data', 'html' ]\n",
    "\n",
    "course.reverse()\n",
    "\n",
    "course"
   ]
  },
  {
   "cell_type": "markdown",
   "metadata": {},
   "source": [
    "### Common List Operations"
   ]
  },
  {
   "cell_type": "markdown",
   "metadata": {},
   "source": [
    "**Concatenation(+)**<br>\n",
    "Concatenation uses the + Operator. It combines lists"
   ]
  },
  {
   "cell_type": "code",
   "execution_count": 21,
   "metadata": {},
   "outputs": [
    {
     "data": {
      "text/plain": [
       "['data science',\n",
       " 'machine learning',\n",
       " 'python',\n",
       " 'html',\n",
       " 'big data',\n",
       " 'artificial intelligence']"
      ]
     },
     "execution_count": 21,
     "metadata": {},
     "output_type": "execute_result"
    }
   ],
   "source": [
    "# define a first list\n",
    "course1 = ['data science', 'machine learning', 'python', 'html', 'big data' ]\n",
    "\n",
    "# define a second list\n",
    "course2 = ['artificial intelligence']\n",
    "\n",
    "# concatenate the list\n",
    "course1 + course2"
   ]
  },
  {
   "cell_type": "markdown",
   "metadata": {},
   "source": [
    "**Repetition(*)**<br>\n",
    "Uses the * Operator. Concatenates a list a repeated number of times"
   ]
  },
  {
   "cell_type": "code",
   "execution_count": 22,
   "metadata": {},
   "outputs": [
    {
     "data": {
      "text/plain": [
       "['data science',\n",
       " 'machine learning',\n",
       " 'python',\n",
       " 'html',\n",
       " 'big data',\n",
       " 'data science',\n",
       " 'machine learning',\n",
       " 'python',\n",
       " 'html',\n",
       " 'big data']"
      ]
     },
     "execution_count": 22,
     "metadata": {},
     "output_type": "execute_result"
    }
   ],
   "source": [
    "# define a first list\n",
    "course1 = ['data science', 'machine learning', 'python', 'html', 'big data' ]\n",
    "\n",
    "course1*2"
   ]
  },
  {
   "cell_type": "markdown",
   "metadata": {},
   "source": [
    "<a id=\"tuple\"> </a>\n",
    "## 2. Introduction to Tuple\n"
   ]
  },
  {
   "cell_type": "markdown",
   "metadata": {},
   "source": [
    "### Creating Tuple\n",
    "Here, we are creating few tuples. We can have tuple of same type of data items as well as mixed type of data items "
   ]
  },
  {
   "cell_type": "code",
   "execution_count": 24,
   "metadata": {},
   "outputs": [
    {
     "name": "stdout",
     "output_type": "stream",
     "text": [
      "(123, 2.228, 'hello python')\n"
     ]
    }
   ],
   "source": [
    "# tuple of int, float, string\n",
    "my_tuple = (123, 2.228, \"hello python\")\n",
    "print(my_tuple)"
   ]
  },
  {
   "cell_type": "code",
   "execution_count": 25,
   "metadata": {},
   "outputs": [
    {
     "name": "stdout",
     "output_type": "stream",
     "text": [
      "('python', [12, 12, 31])\n"
     ]
    }
   ],
   "source": [
    "# tuple of string and list\n",
    "my_tuple = (\"python\", [12, 12, 31])\n",
    "print(my_tuple)"
   ]
  },
  {
   "cell_type": "markdown",
   "metadata": {},
   "source": [
    "### Access Tuple Elements\n",
    "We use indexes to access the elements of a tuple"
   ]
  },
  {
   "cell_type": "code",
   "execution_count": 27,
   "metadata": {},
   "outputs": [
    {
     "data": {
      "text/plain": [
       "'yellow'"
      ]
     },
     "execution_count": 27,
     "metadata": {},
     "output_type": "execute_result"
    }
   ],
   "source": [
    "# tuple of strings\n",
    "my_tuple = (\"mango\", \"yellow\", \"green\", \"blue\")\n",
    "\n",
    "# access the second element from the list\n",
    "my_tuple[1]"
   ]
  },
  {
   "cell_type": "markdown",
   "metadata": {},
   "source": [
    "**Negetive Indexing**<br>\n",
    "Negative indexing means beginning from the end, -1 refers to the last item, -2 refers to the second last item of the tuple"
   ]
  },
  {
   "cell_type": "code",
   "execution_count": 28,
   "metadata": {},
   "outputs": [
    {
     "data": {
      "text/plain": [
       "'blue'"
      ]
     },
     "execution_count": 28,
     "metadata": {},
     "output_type": "execute_result"
    }
   ],
   "source": [
    "# tuple of strings\n",
    "my_tuple = (\"mango\", \"yellow\", \"green\", \"blue\")\n",
    "\n",
    "# print last item of the tuple\n",
    "my_tuple[-1]"
   ]
  },
  {
   "cell_type": "markdown",
   "metadata": {},
   "source": [
    "### Change Tuple Values\n",
    "We cannot change the elements of a tuple because elements of tuple are immutable. However we can change the elements of nested items that are mutable"
   ]
  },
  {
   "cell_type": "code",
   "execution_count": 31,
   "metadata": {},
   "outputs": [
    {
     "name": "stdout",
     "output_type": "stream",
     "text": [
      "(123, ['s', 'a', 'v'], 'World')\n",
      "(123, ['s', 'a', 99], 'World')\n"
     ]
    }
   ],
   "source": [
    "my_tuple = (123, ['s', 'a', 'v'], \"World\")\n",
    "print(my_tuple)\n",
    "\n",
    "# changing the element of the list \n",
    "# this is valid because list is mutable\n",
    "my_tuple[1][2] = 99\n",
    "print(my_tuple)"
   ]
  },
  {
   "cell_type": "code",
   "execution_count": 32,
   "metadata": {},
   "outputs": [
    {
     "ename": "TypeError",
     "evalue": "'tuple' object does not support item assignment",
     "output_type": "error",
     "traceback": [
      "\u001b[1;31m---------------------------------------------------------------------------\u001b[0m",
      "\u001b[1;31mTypeError\u001b[0m                                 Traceback (most recent call last)",
      "\u001b[1;32m<ipython-input-32-7632f6ac419e>\u001b[0m in \u001b[0;36m<module>\u001b[1;34m()\u001b[0m\n\u001b[0;32m      4\u001b[0m \u001b[1;31m# changing the element of tuple\u001b[0m\u001b[1;33m\u001b[0m\u001b[1;33m\u001b[0m\u001b[1;33m\u001b[0m\u001b[0m\n\u001b[0;32m      5\u001b[0m \u001b[1;31m# This is not valid since tuple elements are immutable\u001b[0m\u001b[1;33m\u001b[0m\u001b[1;33m\u001b[0m\u001b[1;33m\u001b[0m\u001b[0m\n\u001b[1;32m----> 6\u001b[1;33m \u001b[0mmy_tuple\u001b[0m\u001b[1;33m[\u001b[0m\u001b[1;36m0\u001b[0m\u001b[1;33m]\u001b[0m \u001b[1;33m=\u001b[0m \u001b[1;34m'orange'\u001b[0m\u001b[1;33m\u001b[0m\u001b[1;33m\u001b[0m\u001b[0m\n\u001b[0m",
      "\u001b[1;31mTypeError\u001b[0m: 'tuple' object does not support item assignment"
     ]
    }
   ],
   "source": [
    "# define the tuple\n",
    "my_tuple = (\"mango\", \"yellow\", \"green\", \"blue\", 353, 363.2, 'w')\n",
    "\n",
    "# changing the element of tuple\n",
    "# This is not valid since tuple elements are immutable\n",
    "my_tuple[0] = 'orange'"
   ]
  },
  {
   "cell_type": "markdown",
   "metadata": {},
   "source": [
    "### Delete Operation on Tuple\n",
    "We already discussed above that tuple elements are immutable which also means that we cannot delete the elements of a tuple. However deleting entire tuple is possible"
   ]
  },
  {
   "cell_type": "code",
   "execution_count": 1,
   "metadata": {},
   "outputs": [
    {
     "ename": "TypeError",
     "evalue": "'tuple' object doesn't support item deletion",
     "output_type": "error",
     "traceback": [
      "\u001b[1;31m---------------------------------------------------------------------------\u001b[0m",
      "\u001b[1;31mTypeError\u001b[0m                                 Traceback (most recent call last)",
      "\u001b[1;32m<ipython-input-1-4e3bdb66cdda>\u001b[0m in \u001b[0;36m<module>\u001b[1;34m\u001b[0m\n\u001b[0;32m      2\u001b[0m \u001b[0mmy_tuple\u001b[0m \u001b[1;33m=\u001b[0m \u001b[1;33m(\u001b[0m\u001b[1;34m\"mango\"\u001b[0m\u001b[1;33m,\u001b[0m \u001b[1;34m\"yellow\"\u001b[0m\u001b[1;33m,\u001b[0m \u001b[1;34m\"green\"\u001b[0m\u001b[1;33m,\u001b[0m \u001b[1;34m\"blue\"\u001b[0m\u001b[1;33m,\u001b[0m \u001b[1;36m353\u001b[0m\u001b[1;33m,\u001b[0m \u001b[1;36m363.2\u001b[0m\u001b[1;33m,\u001b[0m \u001b[1;34m'w'\u001b[0m\u001b[1;33m)\u001b[0m\u001b[1;33m\u001b[0m\u001b[1;33m\u001b[0m\u001b[0m\n\u001b[0;32m      3\u001b[0m \u001b[1;33m\u001b[0m\u001b[0m\n\u001b[1;32m----> 4\u001b[1;33m \u001b[1;32mdel\u001b[0m \u001b[0mmy_tuple\u001b[0m\u001b[1;33m[\u001b[0m\u001b[1;36m0\u001b[0m\u001b[1;33m]\u001b[0m\u001b[1;33m\u001b[0m\u001b[1;33m\u001b[0m\u001b[0m\n\u001b[0m",
      "\u001b[1;31mTypeError\u001b[0m: 'tuple' object doesn't support item deletion"
     ]
    }
   ],
   "source": [
    "# define the tuple\n",
    "my_tuple = (\"mango\", \"yellow\", \"green\", \"blue\", 353, 363.2, 'w')\n",
    "\n",
    "del my_tuple[0]"
   ]
  },
  {
   "cell_type": "markdown",
   "metadata": {},
   "source": [
    "### Tuple Methods"
   ]
  },
  {
   "cell_type": "markdown",
   "metadata": {},
   "source": [
    "Python has two built-in methods that you can use on tuples:<br>\n",
    "count()<br>\n",
    "index()<br>\n",
    "sorted()"
   ]
  },
  {
   "cell_type": "markdown",
   "metadata": {},
   "source": [
    "**count()**<br>\n",
    "Returns the number of times a specified value occurs in a tuple"
   ]
  },
  {
   "cell_type": "code",
   "execution_count": 35,
   "metadata": {},
   "outputs": [
    {
     "data": {
      "text/plain": [
       "4"
      ]
     },
     "execution_count": 35,
     "metadata": {},
     "output_type": "execute_result"
    }
   ],
   "source": [
    "my_tuple = ('a','p','p','l','e','e','d','e', 'd','e','a','c','w')\n",
    "my_tuple.count('e')"
   ]
  },
  {
   "cell_type": "markdown",
   "metadata": {},
   "source": [
    "**index()**<br>\n",
    "Searches the tuple for a specified value and returns the position of where it was found"
   ]
  },
  {
   "cell_type": "code",
   "execution_count": 36,
   "metadata": {},
   "outputs": [
    {
     "data": {
      "text/plain": [
       "3"
      ]
     },
     "execution_count": 36,
     "metadata": {},
     "output_type": "execute_result"
    }
   ],
   "source": [
    "my_tuple = ('a','p','p','l','e','e','d','e', 'd','e','a','c','w')\n",
    "my_tuple.index('l')"
   ]
  },
  {
   "cell_type": "markdown",
   "metadata": {},
   "source": [
    "**sorted()**<br>\n",
    "It sorts a tuple and always returns a list with the elements in a sorted manner"
   ]
  },
  {
   "cell_type": "code",
   "execution_count": 37,
   "metadata": {},
   "outputs": [
    {
     "data": {
      "text/plain": [
       "[2, 2, 3, 3, 4, 5, 6, 7, 8, 9, 9]"
      ]
     },
     "execution_count": 37,
     "metadata": {},
     "output_type": "execute_result"
    }
   ],
   "source": [
    "my_tuple = (2,3,5,6,4,7,8,9,9,2,3)\n",
    "sorted(my_tuple)"
   ]
  },
  {
   "cell_type": "markdown",
   "metadata": {},
   "source": [
    "<a id=\"dictionary\"> </a>\n",
    "## 3. Introduction to Dictionary\n",
    "\n",
    "                        "
   ]
  },
  {
   "cell_type": "markdown",
   "metadata": {
    "collapsed": true
   },
   "source": [
    "**General Syntax of Dictionary:**<br>\n",
    "dictionary_name = {&nbsp;key_1: value_1,<br>\n",
    "&nbsp;&nbsp;&nbsp;&nbsp;&nbsp;&nbsp;&nbsp;&nbsp;&nbsp;&nbsp;&nbsp;&nbsp;&nbsp;&nbsp;&nbsp;&nbsp;&nbsp;&nbsp;&nbsp;&nbsp;&nbsp;&nbsp;&nbsp;&nbsp;&nbsp;&nbsp;&nbsp;&nbsp;&nbsp;&nbsp;&nbsp;&nbsp;                   key_2: value_2,<br>\n",
    "&nbsp;&nbsp;&nbsp;&nbsp;&nbsp;&nbsp;&nbsp;&nbsp;&nbsp;&nbsp;&nbsp;&nbsp;&nbsp;&nbsp;&nbsp;&nbsp;&nbsp;&nbsp;&nbsp;&nbsp;&nbsp;&nbsp;&nbsp;&nbsp;&nbsp;&nbsp;&nbsp;&nbsp;&nbsp;&nbsp;&nbsp;&nbsp;                    key_3: value_3,<br>\n",
    "&nbsp;&nbsp;&nbsp;&nbsp;&nbsp;&nbsp;&nbsp;&nbsp;&nbsp;&nbsp;&nbsp;&nbsp;&nbsp;&nbsp;&nbsp;&nbsp;&nbsp;&nbsp;&nbsp;&nbsp;&nbsp;&nbsp;&nbsp;&nbsp;&nbsp;&nbsp;&nbsp;&nbsp;&nbsp;&nbsp;&nbsp;&nbsp;                    }"
   ]
  },
  {
   "cell_type": "markdown",
   "metadata": {
    "collapsed": true
   },
   "source": [
    "### Create Dictionary\n",
    "Separate keys from values with a colon(:), and a pair from another by a comma(,). Put it all in curly braces"
   ]
  },
  {
   "cell_type": "code",
   "execution_count": 38,
   "metadata": {},
   "outputs": [
    {
     "name": "stdout",
     "output_type": "stream",
     "text": [
      "{'Mia': 83847, 'John': 83837, 'Jill': 94766}\n"
     ]
    }
   ],
   "source": [
    "# create dictionary\n",
    "balance = {\n",
    "    \"Mia\" : 83847,\n",
    "    \"John\" : 83837,\n",
    "    \"Jill\" : 94766\n",
    "}\n",
    "print(balance)"
   ]
  },
  {
   "cell_type": "markdown",
   "metadata": {},
   "source": [
    "### Accessing Items\n",
    "You can access the items of a dictionary by referring to its key name, inside square brackets"
   ]
  },
  {
   "cell_type": "code",
   "execution_count": 39,
   "metadata": {},
   "outputs": [
    {
     "data": {
      "text/plain": [
       "83847"
      ]
     },
     "execution_count": 39,
     "metadata": {},
     "output_type": "execute_result"
    }
   ],
   "source": [
    "# Get the value of \"Mia\" key\n",
    "x = balance[\"Mia\"]\n",
    "x"
   ]
  },
  {
   "cell_type": "markdown",
   "metadata": {},
   "source": [
    "We can use get method to get the value of \"Mia\" key"
   ]
  },
  {
   "cell_type": "code",
   "execution_count": 40,
   "metadata": {},
   "outputs": [
    {
     "data": {
      "text/plain": [
       "83847"
      ]
     },
     "execution_count": 40,
     "metadata": {},
     "output_type": "execute_result"
    }
   ],
   "source": [
    "x = balance.get(\"Mia\")\n",
    "x"
   ]
  },
  {
   "cell_type": "markdown",
   "metadata": {},
   "source": [
    "### Change Values\n",
    "You can change the value of a specific element by referring to its key name"
   ]
  },
  {
   "cell_type": "code",
   "execution_count": 41,
   "metadata": {},
   "outputs": [
    {
     "data": {
      "text/plain": [
       "{2015: 34500, 2016: 34300, 2017: 40000}"
      ]
     },
     "execution_count": 41,
     "metadata": {},
     "output_type": "execute_result"
    }
   ],
   "source": [
    "# create a dictionary\n",
    "year_sales = {\n",
    "  2015: 34500,\n",
    "  2016: 34300,\n",
    "  2017: 40000\n",
    "}\n",
    "\n",
    "year_sales"
   ]
  },
  {
   "cell_type": "code",
   "execution_count": 42,
   "metadata": {},
   "outputs": [
    {
     "data": {
      "text/plain": [
       "{2015: 45000, 2016: 34300, 2017: 40000}"
      ]
     },
     "execution_count": 42,
     "metadata": {},
     "output_type": "execute_result"
    }
   ],
   "source": [
    "# Change the sales figure for 2015\n",
    "year_sales[2015] = 45000\n",
    "\n",
    "year_sales"
   ]
  },
  {
   "cell_type": "markdown",
   "metadata": {},
   "source": [
    "**Dictionary Length**"
   ]
  },
  {
   "cell_type": "code",
   "execution_count": 43,
   "metadata": {},
   "outputs": [
    {
     "name": "stdout",
     "output_type": "stream",
     "text": [
      "3\n"
     ]
    }
   ],
   "source": [
    "# print the length of dictionary\n",
    "print(len(year_sales))"
   ]
  },
  {
   "cell_type": "markdown",
   "metadata": {},
   "source": [
    "**Adding Items**<br>\n",
    "Adding an item to the dictionary is done by using a new index key and assigning a value to it"
   ]
  },
  {
   "cell_type": "code",
   "execution_count": 44,
   "metadata": {},
   "outputs": [
    {
     "data": {
      "text/plain": [
       "{2015: 34500, 2016: 34300, 2017: 40000, '2018': 55000}"
      ]
     },
     "execution_count": 44,
     "metadata": {},
     "output_type": "execute_result"
    }
   ],
   "source": [
    "# create a dictionary\n",
    "year_sales = {\n",
    "  2015: 34500,\n",
    "  2016: 34300,\n",
    "  2017: 40000\n",
    "}\n",
    "\n",
    "year_sales['2018'] = 55000\n",
    "\n",
    "year_sales"
   ]
  },
  {
   "cell_type": "markdown",
   "metadata": {},
   "source": [
    "### Dictionary Method"
   ]
  },
  {
   "cell_type": "markdown",
   "metadata": {},
   "source": [
    "**Removing Items**<br>\n",
    "There are several methods to remove items from a dictionary:<br>\n",
    "pop() method<br>\n",
    "popitem() method<br>\n",
    "del keywords<br>\n",
    "clear keyword"
   ]
  },
  {
   "cell_type": "markdown",
   "metadata": {},
   "source": [
    "**pop()**<br>\n",
    "The pop() method removes the item with the specified key name"
   ]
  },
  {
   "cell_type": "code",
   "execution_count": 45,
   "metadata": {},
   "outputs": [
    {
     "data": {
      "text/plain": [
       "{2016: 34300, 2017: 40000}"
      ]
     },
     "execution_count": 45,
     "metadata": {},
     "output_type": "execute_result"
    }
   ],
   "source": [
    "# create a dictionary\n",
    "year_sales = {\n",
    "  2015: 34500,\n",
    "  2016: 34300,\n",
    "  2017: 40000\n",
    "}\n",
    "\n",
    "# remove key from dictionary\n",
    "year_sales.pop(2015)\n",
    "\n",
    "year_sales"
   ]
  },
  {
   "cell_type": "markdown",
   "metadata": {},
   "source": [
    "**popitem()**<br>\n",
    "The popitem() method removes the last inserted item"
   ]
  },
  {
   "cell_type": "code",
   "execution_count": 46,
   "metadata": {},
   "outputs": [
    {
     "data": {
      "text/plain": [
       "{2015: 34500, 2016: 34300}"
      ]
     },
     "execution_count": 46,
     "metadata": {},
     "output_type": "execute_result"
    }
   ],
   "source": [
    "# create a dictionary\n",
    "year_sales = {\n",
    "  2015: 34500,\n",
    "  2016: 34300,\n",
    "  2017: 40000\n",
    "}\n",
    "\n",
    "# remove last item from the dictionary\n",
    "year_sales.popitem()\n",
    "\n",
    "year_sales"
   ]
  },
  {
   "cell_type": "markdown",
   "metadata": {},
   "source": [
    "**del keywords**<br>\n",
    "The del keyword removes the item with the specified key name"
   ]
  },
  {
   "cell_type": "code",
   "execution_count": 47,
   "metadata": {},
   "outputs": [
    {
     "data": {
      "text/plain": [
       "{2016: 34300, 2017: 40000}"
      ]
     },
     "execution_count": 47,
     "metadata": {},
     "output_type": "execute_result"
    }
   ],
   "source": [
    "# create a dictionary\n",
    "year_sales = {\n",
    "  2015: 34500,\n",
    "  2016: 34300,\n",
    "  2017: 40000\n",
    "}\n",
    "\n",
    "# delete item from the dictionary\n",
    "del year_sales[2015]\n",
    "\n",
    "year_sales"
   ]
  },
  {
   "cell_type": "markdown",
   "metadata": {},
   "source": [
    "**clear()**<br>\n",
    "The clear() keyword empties the dictionary"
   ]
  },
  {
   "cell_type": "code",
   "execution_count": 48,
   "metadata": {},
   "outputs": [
    {
     "data": {
      "text/plain": [
       "{}"
      ]
     },
     "execution_count": 48,
     "metadata": {},
     "output_type": "execute_result"
    }
   ],
   "source": [
    "# create a dictionary\n",
    "year_sales = {\n",
    "  2015: 34500,\n",
    "  2016: 34300,\n",
    "  2017: 40000\n",
    "}\n",
    "\n",
    "# clear the dictionary\n",
    "year_sales.clear()\n",
    "\n",
    "year_sales"
   ]
  },
  {
   "cell_type": "markdown",
   "metadata": {},
   "source": [
    "**Copy()**<br>\n",
    "You cannot copy a dictionary simply by typing dict2 = dict1, because dict2 will only be a reference to dict1, and changes made in dict1 will automatically also be made in dict2<br>\n",
    "You can use copy() method to make copy of dictionary"
   ]
  },
  {
   "cell_type": "code",
   "execution_count": 49,
   "metadata": {
    "collapsed": true
   },
   "outputs": [],
   "source": [
    "# create a dictionary\n",
    "year_sales1 = {\n",
    "  2015: 34500,\n",
    "  2016: 34300,\n",
    "  2017: 40000\n",
    "}\n",
    "\n",
    "# make a copy of dictionary\n",
    "copy_dict = year_sales.copy()"
   ]
  },
  {
   "cell_type": "markdown",
   "metadata": {},
   "source": [
    "**sorted()**<br>\n",
    "Return a new sorted list of keys in the dictionary"
   ]
  },
  {
   "cell_type": "code",
   "execution_count": 50,
   "metadata": {},
   "outputs": [
    {
     "data": {
      "text/plain": [
       "[1, 3, 5, 7, 9]"
      ]
     },
     "execution_count": 50,
     "metadata": {},
     "output_type": "execute_result"
    }
   ],
   "source": [
    "Square = {1: 1, 3: 9, 5: 25, 7: 49, 9: 81}\n",
    "sorted(Square)"
   ]
  },
  {
   "cell_type": "markdown",
   "metadata": {},
   "source": [
    "**update()**<br>\n",
    "We can also add and modify dictionaries by using the dict.update() method"
   ]
  },
  {
   "cell_type": "code",
   "execution_count": 51,
   "metadata": {},
   "outputs": [
    {
     "data": {
      "text/plain": [
       "{2015: 34500, 2016: 34300, 2017: 40000, 2018: 30000}"
      ]
     },
     "execution_count": 51,
     "metadata": {},
     "output_type": "execute_result"
    }
   ],
   "source": [
    "# create a dictionary\n",
    "year_sales = {\n",
    "  2015: 34500,\n",
    "  2016: 34300,\n",
    "  2017: 40000\n",
    "}\n",
    "\n",
    "# update dictionary\n",
    "year_sales.update({2018:30000})\n",
    "\n",
    "year_sales"
   ]
  },
  {
   "cell_type": "markdown",
   "metadata": {},
   "source": [
    "<a id=\"sets\"> </a>\n",
    "## 4. Introduction to Sets\n"
   ]
  },
  {
   "cell_type": "markdown",
   "metadata": {},
   "source": [
    "### Creating Set\n",
    "In Python sets are written with curly brackets"
   ]
  },
  {
   "cell_type": "code",
   "execution_count": 6,
   "metadata": {},
   "outputs": [
    {
     "name": "stdout",
     "output_type": "stream",
     "text": [
      "{1, 2, 3, 4}\n"
     ]
    },
    {
     "data": {
      "text/plain": [
       "{1, 2, 3, 4}"
      ]
     },
     "execution_count": 6,
     "metadata": {},
     "output_type": "execute_result"
    }
   ],
   "source": [
    "# create a set\n",
    "s = {1, 2, 3, 3, 4, 3, 3, 2, 2, 2}\n",
    "print (s)\n",
    "\n",
    "# create a set\n",
    "set([1, 2, 3, 4, 4, 4])"
   ]
  },
  {
   "cell_type": "markdown",
   "metadata": {},
   "source": [
    "Python has the following methods that you can use on sets:<br>\n",
    "add()<br>\n",
    "update()<br>\n",
    "len()<br>\n",
    "remove()<br>\n",
    "pop()<br>"
   ]
  },
  {
   "cell_type": "markdown",
   "metadata": {},
   "source": [
    "<a id=\"loops\"> </a>\n",
    "## 5. Conditional Statement and Loops"
   ]
  },
  {
   "cell_type": "markdown",
   "metadata": {},
   "source": [
    "<a id=\"if_statement\"> </a>\n",
    "## 5.1 if statement\n"
   ]
  },
  {
   "cell_type": "markdown",
   "metadata": {},
   "source": [
    "**syntax:**<br><br>\n",
    "if BOOLEAN EXPRESSION:<br>\n",
    "&nbsp;&nbsp;    STATEMENTS"
   ]
  },
  {
   "cell_type": "markdown",
   "metadata": {},
   "source": [
    "**Let’s see how it looks on a flow chart:**\n",
    "            <img src=\"flowchart_if.png\">\n"
   ]
  },
  {
   "cell_type": "markdown",
   "metadata": {},
   "source": [
    "Now, we will see some examples on if statements"
   ]
  },
  {
   "cell_type": "code",
   "execution_count": 6,
   "metadata": {},
   "outputs": [
    {
     "name": "stdout",
     "output_type": "stream",
     "text": [
      "Python Tutorial\n"
     ]
    }
   ],
   "source": [
    "# create a string\n",
    "my_string = 'Python'\n",
    "\n",
    "# create a list\n",
    "my_list = ['Data Science', 'Machine Learning', 'Artificial Intelligence', 'Python']\n",
    "\n",
    "if my_string in my_list:\n",
    "    print(my_string + ' Tutorial')"
   ]
  },
  {
   "cell_type": "markdown",
   "metadata": {},
   "source": [
    " Test if an item is a member of a list or not."
   ]
  },
  {
   "cell_type": "code",
   "execution_count": 7,
   "metadata": {},
   "outputs": [
    {
     "name": "stdout",
     "output_type": "stream",
     "text": [
      "right\n"
     ]
    }
   ],
   "source": [
    "languages = ['java', 'python' ,'perl', 'ruby', 'c#']\n",
    "if 'python' in languages:\n",
    "    print('right')"
   ]
  },
  {
   "cell_type": "markdown",
   "metadata": {},
   "source": [
    "<a id=\"if_else\"> </a>\n",
    "## 5.2 if else statement\n"
   ]
  },
  {
   "cell_type": "markdown",
   "metadata": {},
   "source": [
    "**Syntax of if...else**<br><br>\n",
    "if BOOLEAN EXPRESSION:<br>\n",
    "&nbsp;&nbsp;    STATEMENTS_1<br>\n",
    "else:<br>\n",
    "&nbsp;&nbsp;    STATEMENTS_2"
   ]
  },
  {
   "cell_type": "markdown",
   "metadata": {},
   "source": [
    "**Flow chart of a if else statement:**\n",
    "            <img src=\"flowchart_if_else.png\">\n"
   ]
  },
  {
   "cell_type": "markdown",
   "metadata": {},
   "source": [
    "Let’s see an example of the implementation of the if…else statement."
   ]
  },
  {
   "cell_type": "code",
   "execution_count": 8,
   "metadata": {},
   "outputs": [
    {
     "name": "stdout",
     "output_type": "stream",
     "text": [
      "200\n",
      "the value of x different from 500\n"
     ]
    }
   ],
   "source": [
    "# create a integer\n",
    "x = 200\n",
    "print(x)\n",
    "\n",
    "# uses the not operator to reverse the result of the logical expression\n",
    "if not x == 500:\n",
    "    print('the value of x different from 500')\n",
    "else:\n",
    "    print('the value of x is equal to 500')"
   ]
  },
  {
   "cell_type": "code",
   "execution_count": 31,
   "metadata": {},
   "outputs": [
    {
     "name": "stdout",
     "output_type": "stream",
     "text": [
      "enter your useridgreatlearning\n",
      "enter your passwordsimplelearning123\n",
      "Succefully logged in!!\n"
     ]
    }
   ],
   "source": [
    "string1 = str(input(\"enter your userid\"))\n",
    "string2 = str(input(\"enter your password\"))\n",
    "\n",
    "if (string1 == \"greatlearning\" and string2 == \"simplelearning123\"):\n",
    "    print(\"Succefully logged in!!\")\n",
    "else :\n",
    "    print(\"Please check your userid and password\")"
   ]
  },
  {
   "cell_type": "markdown",
   "metadata": {},
   "source": [
    "<a id=\"if_elif_else\"> </a>\n",
    "## 5.3 if elif else\n"
   ]
  },
  {
   "cell_type": "markdown",
   "metadata": {},
   "source": [
    "**Syntax of if elif else:**<br>\n",
    "if x < y:<br>\n",
    "&nbsp;&nbsp;    STATEMENTS_A<br>\n",
    "elif x > y:<br>\n",
    "&nbsp;&nbsp    STATEMENTS_B<br>\n",
    "else:<br>\n",
    "&nbsp;&nbsp;    STATEMENTS_C"
   ]
  },
  {
   "cell_type": "markdown",
   "metadata": {},
   "source": [
    "**Here is the flow chart of if elif else:**\n",
    "            <img src=\"flowchart_if_elif.png\">\n"
   ]
  },
  {
   "cell_type": "markdown",
   "metadata": {},
   "source": [
    "Check whether the given number is greater than 50 or not"
   ]
  },
  {
   "cell_type": "code",
   "execution_count": 3,
   "metadata": {},
   "outputs": [
    {
     "name": "stdout",
     "output_type": "stream",
     "text": [
      "Number is greater than 50\n"
     ]
    }
   ],
   "source": [
    "num = 100\n",
    "if (num == 0):\n",
    "    print(\"Number is Zero\")\n",
    "elif (num > 5):\n",
    "    print(\"Number is greater than 50\")\n",
    "else:\n",
    "    print(\"Number is smaller than 50\")\n"
   ]
  },
  {
   "cell_type": "markdown",
   "metadata": {},
   "source": [
    "<a id=\"nested_if\"> </a>\n",
    "## 5.4 nested if and if else statement\n"
   ]
  },
  {
   "cell_type": "code",
   "execution_count": 5,
   "metadata": {},
   "outputs": [
    {
     "name": "stdout",
     "output_type": "stream",
     "text": [
      "Enter a number: 23\n",
      "Positive number\n"
     ]
    }
   ],
   "source": [
    "num = float(input(\"Enter a number: \"))\n",
    "if num >= 0:\n",
    "    if num == 0:\n",
    "        print(\"Zero\")\n",
    "    else:\n",
    "        print(\"Positive number\")\n",
    "else:\n",
    "    print(\"Negative number\")"
   ]
  },
  {
   "cell_type": "markdown",
   "metadata": {},
   "source": [
    "<a id=\"forloop\"> </a>\n",
    "## 5.5 for loop\n"
   ]
  },
  {
   "cell_type": "markdown",
   "metadata": {},
   "source": [
    "**Syntax of for loop:**<br>\n",
    "for val in sequence:<br>\n",
    "&nbsp;&nbsp;\tBody of for"
   ]
  },
  {
   "cell_type": "markdown",
   "metadata": {},
   "source": [
    "**Here is the flow chart of for loop:**\n",
    "            <img src=\"forloop.jpg\">\n"
   ]
  },
  {
   "cell_type": "code",
   "execution_count": 7,
   "metadata": {},
   "outputs": [
    {
     "name": "stdout",
     "output_type": "stream",
     "text": [
      "The sum is 2068\n"
     ]
    }
   ],
   "source": [
    "# Program to find the sum of all numbers stored in a list\n",
    "\n",
    "# List of numbers\n",
    "numbers = [66, 545, 223, 438, 224, 122, 125, 214, 111]\n",
    "\n",
    "# variable to store the sum\n",
    "sum = 0\n",
    "\n",
    "# iterate over the list\n",
    "for val in numbers:\n",
    "    sum = sum+val\n",
    "\n",
    "# Output: The sum is 48\n",
    "print(\"The sum is\", sum)"
   ]
  },
  {
   "cell_type": "markdown",
   "metadata": {},
   "source": [
    "<a id=\"whileloop\"> </a>\n",
    "## 5.6 while loop\n"
   ]
  },
  {
   "cell_type": "markdown",
   "metadata": {},
   "source": [
    "**Syntax of for loop:**<br>\n",
    "while (expression):<br>\n",
    "&nbsp;&nbsp;     statement_1<br>\n",
    "&nbsp;&nbsp;     statement_2<br>\n",
    "    ...."
   ]
  },
  {
   "cell_type": "markdown",
   "metadata": {},
   "source": [
    "Calculate the sum of the integers from 0 to 9"
   ]
  },
  {
   "cell_type": "code",
   "execution_count": 11,
   "metadata": {},
   "outputs": [
    {
     "name": "stdout",
     "output_type": "stream",
     "text": [
      "The sum of first 9 integers :  45\n"
     ]
    }
   ],
   "source": [
    "a = 0;\n",
    "b = 0\n",
    "while (a < 10):\n",
    "     b = b + a\n",
    "     a = a + 1\n",
    "else :\n",
    "     print('The sum of first 9 integers : ',b)   "
   ]
  },
  {
   "cell_type": "markdown",
   "metadata": {},
   "source": [
    "<a id=\"break_statement\"> </a>\n",
    "## 5.7 break statement\n"
   ]
  },
  {
   "cell_type": "markdown",
   "metadata": {},
   "source": [
    "Check whether a numbers entered by the user is negative or not."
   ]
  },
  {
   "cell_type": "code",
   "execution_count": 16,
   "metadata": {},
   "outputs": [
    {
     "name": "stdout",
     "output_type": "stream",
     "text": [
      "78\n",
      "89\n",
      "09\n",
      "89\n",
      "78\n",
      "No negative numbers met\n"
     ]
    }
   ],
   "source": [
    "for i in range(5):\n",
    "    a = int(input())\n",
    "    if a < 0:\n",
    "        print('Met a negative number', a)\n",
    "        break\n",
    "else:\n",
    "    print('No negative numbers met')"
   ]
  },
  {
   "cell_type": "markdown",
   "metadata": {},
   "source": [
    "### <a id=\"continue_statement\"> </a>\n",
    "## 5.8 continue statement\n"
   ]
  },
  {
   "cell_type": "code",
   "execution_count": 18,
   "metadata": {},
   "outputs": [
    {
     "name": "stdout",
     "output_type": "stream",
     "text": [
      "1 2 3 4 5 7 8 9 10 "
     ]
    }
   ],
   "source": [
    "# loop from 1 to 10 \n",
    "for i in range(1, 11): \n",
    "    if i == 6: \n",
    "        continue\n",
    "    else: \n",
    "        # otherwise print the value of i \n",
    "        print(i, end = \" \") "
   ]
  },
  {
   "cell_type": "markdown",
   "metadata": {},
   "source": [
    "Use the continue statement in a while loop"
   ]
  },
  {
   "cell_type": "code",
   "execution_count": 19,
   "metadata": {},
   "outputs": [
    {
     "name": "stdout",
     "output_type": "stream",
     "text": [
      "1\n",
      "2\n",
      "4\n",
      "5\n",
      "6\n",
      "7\n",
      "8\n",
      "9\n"
     ]
    }
   ],
   "source": [
    "i = 0\n",
    "while i < 9:\n",
    "    i += 1\n",
    "    if i == 3:\n",
    "        continue\n",
    "    print(i)"
   ]
  }
 ],
 "metadata": {
  "kernelspec": {
   "display_name": "Python 2",
   "language": "python",
   "name": "python2"
  },
  "language_info": {
   "codemirror_mode": {
    "name": "ipython",
    "version": 2
   },
   "file_extension": ".py",
   "mimetype": "text/x-python",
   "name": "python",
   "nbconvert_exporter": "python",
   "pygments_lexer": "ipython2",
   "version": "2.7.14"
  }
 },
 "nbformat": 4,
 "nbformat_minor": 2
}
